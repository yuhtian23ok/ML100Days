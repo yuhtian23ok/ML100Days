{
 "cells": [
  {
   "cell_type": "markdown",
   "metadata": {},
   "source": [
    "## Work\n",
    "1. 請嘗試寫一個 callback 用來記錄各類別在訓練過程中，對驗證集的 True Positive 與 True Negative"
   ]
  },
  {
   "cell_type": "code",
   "execution_count": 1,
   "metadata": {},
   "outputs": [],
   "source": [
    "import os\n",
    "import keras\n",
    "\n",
    "# Disable GPU\n",
    "os.environ[\"CUDA_VISIBLE_DEVICES\"] = \"\""
   ]
  },
  {
   "cell_type": "code",
   "execution_count": 2,
   "metadata": {},
   "outputs": [],
   "source": [
    "train, test = keras.datasets.cifar10.load_data()"
   ]
  },
  {
   "cell_type": "code",
   "execution_count": 3,
   "metadata": {},
   "outputs": [],
   "source": [
    "## 資料前處理\n",
    "def preproc_x(x, flatten=True):\n",
    "    x = x / 255.\n",
    "    if flatten:\n",
    "        x = x.reshape((len(x), -1))\n",
    "    return x\n",
    "\n",
    "def preproc_y(y, num_classes=10):\n",
    "    if y.shape[-1] == 1:\n",
    "        y = keras.utils.to_categorical(y, num_classes)\n",
    "    return y    "
   ]
  },
  {
   "cell_type": "code",
   "execution_count": 4,
   "metadata": {},
   "outputs": [],
   "source": [
    "x_train, y_train = train\n",
    "x_test, y_test = test\n",
    "\n",
    "# Preproc the inputs\n",
    "x_train = preproc_x(x_train)\n",
    "x_test = preproc_x(x_test)\n",
    "\n",
    "# Preprc the outputs\n",
    "y_train = preproc_y(y_train)\n",
    "y_test = preproc_y(y_test)"
   ]
  },
  {
   "cell_type": "code",
   "execution_count": 5,
   "metadata": {},
   "outputs": [],
   "source": [
    "from keras.layers import BatchNormalization\n",
    "\n",
    "\"\"\"\n",
    "建立神經網路，並加入 BN layer\n",
    "\"\"\"\n",
    "def build_mlp(input_shape, output_units=10, num_neurons=[512, 256, 128]):\n",
    "    input_layer = keras.layers.Input(input_shape)\n",
    "    \n",
    "    for i, n_units in enumerate(num_neurons):\n",
    "        if i == 0:\n",
    "            x = keras.layers.Dense(units=n_units, \n",
    "                                   activation=\"relu\", \n",
    "                                   name=\"hidden_layer\"+str(i+1))(input_layer)\n",
    "            x = BatchNormalization()(x)\n",
    "        else:\n",
    "            x = keras.layers.Dense(units=n_units, \n",
    "                                   activation=\"relu\", \n",
    "                                   name=\"hidden_layer\"+str(i+1))(x)\n",
    "            x = BatchNormalization()(x)\n",
    "    \n",
    "    out = keras.layers.Dense(units=output_units, activation=\"softmax\", name=\"output\")(x)\n",
    "    \n",
    "    model = keras.models.Model(inputs=[input_layer], outputs=[out])\n",
    "    return model"
   ]
  },
  {
   "cell_type": "code",
   "execution_count": 6,
   "metadata": {},
   "outputs": [],
   "source": [
    "## 超參數設定\n",
    "LEARNING_RATE = 1e-3\n",
    "EPOCHS = 25\n",
    "BATCH_SIZE = 1024\n",
    "MOMENTUM = 0.95"
   ]
  },
  {
   "cell_type": "code",
   "execution_count": 14,
   "metadata": {},
   "outputs": [],
   "source": [
    "# 載入 Callbacks\n",
    "from keras.callbacks import Callback\n",
    "\n",
    "# 計算 ture positive 與 true negative\n",
    "from sklearn.metrics import confusion_matrix\n",
    "\n",
    "# Record_fp_tp\n",
    "class Record_tp_tn(Callback):\n",
    "    \"\"\"Code Here\n",
    "    撰寫一個紀錄 ture positive 與 true negative 數量的 callbacks    \n",
    "    \"\"\"\n",
    "    def __init__(self, validation_data):\n",
    "        self.validation_data = validation_data\n",
    "    def on_train_begin(self, epoch, logs = {}):\n",
    "        logs = logs or {}\n",
    "        record_items = [\"val_auc\", \"val_fp\", \"val_fn\", \"val_tp\", \"val_tn\"]\n",
    "        for i in record_items:            \n",
    "            if i not in logs.keys():\n",
    "                logs[i]=[]\n",
    "            #if i not in self.params['metrics']:\n",
    "            #    self.params['metrics'].append(i)\n",
    "    \n",
    "    def on_epoch_end(self, epoch, logs = {}, thres=0.5):\n",
    "        logs = logs or {}\n",
    "        y_true = self.validation_data[1].argmax(axis = 1)\n",
    "        y_pred = self.model.predict(self.validation_data[0])\n",
    "        y_pred = (y_pred[:, 1] >= thres) * 1\n",
    "        \n",
    "        #logs[\"val_tn\"], logs[\"val_fp\"], logs[\"val_fn\"], logs[\"val_tp\"] = confusion_matrix(y_true, y_pred).ravel()\n",
    "        CM = confusion_matrix(y_true, y_pred)\n",
    "\n",
    "        logs[\"val_tn\"] = CM[0][0]\n",
    "        logs[\"val_fn\"] = CM[1][0]\n",
    "        logs[\"val_tp\"] = CM[1][1]\n",
    "        logs[\"val_fp\"] = CM[0][1]\n",
    "        \n",
    "rec_tptn = Record_tp_tn((x_test, y_test))"
   ]
  },
  {
   "cell_type": "code",
   "execution_count": 15,
   "metadata": {
    "scrolled": true
   },
   "outputs": [
    {
     "name": "stdout",
     "output_type": "stream",
     "text": [
      "Model: \"functional_11\"\n",
      "_________________________________________________________________\n",
      "Layer (type)                 Output Shape              Param #   \n",
      "=================================================================\n",
      "input_6 (InputLayer)         [(None, 3072)]            0         \n",
      "_________________________________________________________________\n",
      "hidden_layer1 (Dense)        (None, 512)               1573376   \n",
      "_________________________________________________________________\n",
      "batch_normalization_15 (Batc (None, 512)               2048      \n",
      "_________________________________________________________________\n",
      "hidden_layer2 (Dense)        (None, 256)               131328    \n",
      "_________________________________________________________________\n",
      "batch_normalization_16 (Batc (None, 256)               1024      \n",
      "_________________________________________________________________\n",
      "hidden_layer3 (Dense)        (None, 128)               32896     \n",
      "_________________________________________________________________\n",
      "batch_normalization_17 (Batc (None, 128)               512       \n",
      "_________________________________________________________________\n",
      "output (Dense)               (None, 10)                1290      \n",
      "=================================================================\n",
      "Total params: 1,742,474\n",
      "Trainable params: 1,740,682\n",
      "Non-trainable params: 1,792\n",
      "_________________________________________________________________\n",
      "Epoch 1/25\n",
      "49/49 [==============================] - 8s 171ms/step - loss: 2.2117 - accuracy: 0.2749 - val_loss: 2.1521 - val_accuracy: 0.1921\n",
      "Epoch 2/25\n",
      "49/49 [==============================] - 7s 150ms/step - loss: 1.7312 - accuracy: 0.3944 - val_loss: 2.0072 - val_accuracy: 0.2688\n",
      "Epoch 3/25\n",
      "49/49 [==============================] - 7s 147ms/step - loss: 1.6095 - accuracy: 0.4362 - val_loss: 1.8580 - val_accuracy: 0.3469\n",
      "Epoch 4/25\n",
      "49/49 [==============================] - 7s 141ms/step - loss: 1.5349 - accuracy: 0.4600 - val_loss: 1.7331 - val_accuracy: 0.3908\n",
      "Epoch 5/25\n",
      "49/49 [==============================] - 8s 164ms/step - loss: 1.4807 - accuracy: 0.4803 - val_loss: 1.6422 - val_accuracy: 0.4236\n",
      "Epoch 6/25\n",
      "49/49 [==============================] - 7s 148ms/step - loss: 1.4341 - accuracy: 0.4979 - val_loss: 1.5796 - val_accuracy: 0.4421\n",
      "Epoch 7/25\n",
      "49/49 [==============================] - 7s 148ms/step - loss: 1.3965 - accuracy: 0.5114 - val_loss: 1.5449 - val_accuracy: 0.4463\n",
      "Epoch 8/25\n",
      "49/49 [==============================] - 8s 159ms/step - loss: 1.3621 - accuracy: 0.5234 - val_loss: 1.5215 - val_accuracy: 0.4586\n",
      "Epoch 9/25\n",
      "49/49 [==============================] - 8s 157ms/step - loss: 1.3274 - accuracy: 0.5369 - val_loss: 1.5089 - val_accuracy: 0.4665\n",
      "Epoch 10/25\n",
      "49/49 [==============================] - 7s 144ms/step - loss: 1.3007 - accuracy: 0.5465 - val_loss: 1.4885 - val_accuracy: 0.4704\n",
      "Epoch 11/25\n",
      "49/49 [==============================] - 7s 139ms/step - loss: 1.2709 - accuracy: 0.5585 - val_loss: 1.4791 - val_accuracy: 0.4740\n",
      "Epoch 12/25\n",
      "49/49 [==============================] - 7s 144ms/step - loss: 1.2432 - accuracy: 0.5686 - val_loss: 1.4654 - val_accuracy: 0.4845\n",
      "Epoch 13/25\n",
      "49/49 [==============================] - 7s 146ms/step - loss: 1.2179 - accuracy: 0.5781 - val_loss: 1.4638 - val_accuracy: 0.4829\n",
      "Epoch 14/25\n",
      "49/49 [==============================] - 7s 144ms/step - loss: 1.1935 - accuracy: 0.5876 - val_loss: 1.4632 - val_accuracy: 0.4781\n",
      "Epoch 15/25\n",
      "49/49 [==============================] - 7s 142ms/step - loss: 1.1697 - accuracy: 0.5966 - val_loss: 1.4507 - val_accuracy: 0.4862\n",
      "Epoch 16/25\n",
      "49/49 [==============================] - 7s 141ms/step - loss: 1.1451 - accuracy: 0.6049 - val_loss: 1.4537 - val_accuracy: 0.4897\n",
      "Epoch 17/25\n",
      "49/49 [==============================] - 7s 143ms/step - loss: 1.1234 - accuracy: 0.6146 - val_loss: 1.4499 - val_accuracy: 0.4842\n",
      "Epoch 18/25\n",
      "49/49 [==============================] - 7s 143ms/step - loss: 1.1001 - accuracy: 0.6237 - val_loss: 1.4447 - val_accuracy: 0.4918\n",
      "Epoch 19/25\n",
      "49/49 [==============================] - 7s 141ms/step - loss: 1.0780 - accuracy: 0.6317 - val_loss: 1.4514 - val_accuracy: 0.4909\n",
      "Epoch 20/25\n",
      "49/49 [==============================] - 7s 140ms/step - loss: 1.0547 - accuracy: 0.6395 - val_loss: 1.4478 - val_accuracy: 0.4913\n",
      "Epoch 21/25\n",
      "49/49 [==============================] - 7s 141ms/step - loss: 1.0320 - accuracy: 0.6481 - val_loss: 1.4392 - val_accuracy: 0.4978\n",
      "Epoch 22/25\n",
      "49/49 [==============================] - 7s 143ms/step - loss: 1.0128 - accuracy: 0.6562 - val_loss: 1.4384 - val_accuracy: 0.4909\n",
      "Epoch 23/25\n",
      "49/49 [==============================] - 7s 148ms/step - loss: 0.9918 - accuracy: 0.6633 - val_loss: 1.4506 - val_accuracy: 0.4936\n",
      "Epoch 24/25\n",
      "49/49 [==============================] - 7s 140ms/step - loss: 0.9718 - accuracy: 0.6722 - val_loss: 1.4487 - val_accuracy: 0.4983\n",
      "Epoch 25/25\n",
      "49/49 [==============================] - 7s 147ms/step - loss: 0.9496 - accuracy: 0.6804 - val_loss: 1.4707 - val_accuracy: 0.4876\n"
     ]
    }
   ],
   "source": [
    "model = build_mlp(input_shape=x_train.shape[1:])\n",
    "model.summary()\n",
    "optimizer = keras.optimizers.SGD(lr=LEARNING_RATE, nesterov=True, momentum=MOMENTUM)\n",
    "model.compile(loss=\"categorical_crossentropy\", metrics=[\"accuracy\"], optimizer=optimizer)\n",
    "\n",
    "\"\"\"Code Here\n",
    "將 callbacks 放入模型訓練流程中\n",
    "\"\"\"\n",
    "model.fit(x_train, y_train, \n",
    "          epochs=EPOCHS, \n",
    "          batch_size=BATCH_SIZE, \n",
    "          validation_data=(x_test, y_test), \n",
    "          shuffle=True,\n",
    "          callbacks=[rec_tptn]\n",
    "         )\n",
    "\n",
    "# Collect results\n",
    "train_loss = model.history.history[\"loss\"]\n",
    "valid_loss = model.history.history[\"val_loss\"]\n",
    "train_acc = model.history.history[\"accuracy\"]\n",
    "valid_acc = model.history.history[\"val_accuracy\"]\n",
    "\n",
    "\"\"\"Code Here\n",
    "將 tp/tn 從訓練完的模型中取出\n",
    "\"\"\"\n",
    "valid_tp = model.history.history['val_tp']\n",
    "valid_tn = model.history.history['val_tn']"
   ]
  },
  {
   "cell_type": "code",
   "execution_count": 16,
   "metadata": {},
   "outputs": [
    {
     "data": {
      "image/png": "[encoded data removed]",
      "text/plain": [
       "<Figure size 432x288 with 1 Axes>"
      ]
     },
     "metadata": {},
     "output_type": "display_data"
    },
    {
     "data": {
      "image/png": "[encoded data removed]",
      "text/plain": [
       "<Figure size 432x288 with 1 Axes>"
      ]
     },
     "metadata": {},
     "output_type": "display_data"
    },
    {
     "data": {
      "image/png": "[encoded data removed]",
      "text/plain": [
       "<Figure size 432x288 with 1 Axes>"
      ]
     },
     "metadata": {},
     "output_type": "display_data"
    }
   ],
   "source": [
    "import matplotlib.pyplot as plt\n",
    "%matplotlib inline\n",
    "\n",
    "plt.plot(range(len(train_loss)), train_loss, label=\"train loss\")\n",
    "plt.plot(range(len(valid_loss)), valid_loss, label=\"valid loss\")\n",
    "plt.legend()\n",
    "plt.title(\"Loss\")\n",
    "plt.show()\n",
    "\n",
    "plt.plot(range(len(train_acc)), train_acc, label=\"train accuracy\")\n",
    "plt.plot(range(len(valid_acc)), valid_acc, label=\"valid accuracy\")\n",
    "plt.legend()\n",
    "plt.title(\"Accuracy\")\n",
    "plt.show()\n",
    "\n",
    "plt.plot(range(len(valid_tp)), valid_tp, label=\"valid tp\", color=\"navy\")\n",
    "plt.plot(range(len(valid_tn)), valid_tn, label=\"valid tn\", color=\"red\")\n",
    "plt.legend()\n",
    "plt.title(\"True positives and True Negatives\")\n",
    "plt.show()\n"
   ]
  },
  {
   "cell_type": "code",
   "execution_count": null,
   "metadata": {},
   "outputs": [],
   "source": []
  }
 ],
 "metadata": {
  "kernelspec": {
   "display_name": "Python 3",
   "language": "python",
   "name": "python3"
  },
  "language_info": {
   "codemirror_mode": {
    "name": "ipython",
    "version": 3
   },
   "file_extension": ".py",
   "mimetype": "text/x-python",
   "name": "python",
   "nbconvert_exporter": "python",
   "pygments_lexer": "ipython3",
   "version": "3.6.5"
  }
 },
 "nbformat": 4,
 "nbformat_minor": 2
}
